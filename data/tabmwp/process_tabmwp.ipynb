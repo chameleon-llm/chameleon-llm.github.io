{
 "cells": [
  {
   "cell_type": "code",
   "execution_count": 1,
   "metadata": {},
   "outputs": [],
   "source": [
    "import os\n",
    "import json"
   ]
  },
  {
   "cell_type": "code",
   "execution_count": 2,
   "metadata": {},
   "outputs": [],
   "source": [
    "tables_dir = 'tables'\n",
    "problem_file = 'problems_train.json'\n",
    "\n",
    "# Load problem\n",
    "with open(problem_file, 'r') as f:\n",
    "    problems = json.load(f)\n",
    "\n",
    "for pid, problems in problems.items():\n",
    "    image_file = os.path.join(tables_dir, pid + '.png')\n",
    "    # delete image_file\n",
    "    try:\n",
    "        command = 'rm ' + image_file\n",
    "        os.system(command)\n",
    "    except Exception as e:\n",
    "        print(e)"
   ]
  },
  {
   "cell_type": "code",
   "execution_count": 3,
   "metadata": {},
   "outputs": [],
   "source": [
    "tables_dir = 'tables'\n",
    "problem_file = 'problems_dev.json'\n",
    "\n",
    "# Load problem\n",
    "with open(problem_file, 'r') as f:\n",
    "    problems = json.load(f)\n",
    "\n",
    "for pid, problems in problems.items():\n",
    "    image_file = os.path.join(tables_dir, pid + '.png')\n",
    "    # delete image_file\n",
    "    try:\n",
    "        command = 'rm ' + image_file\n",
    "        os.system(command)\n",
    "    except Exception as e:\n",
    "        print(e)"
   ]
  }
 ],
 "metadata": {
  "kernelspec": {
   "display_name": "Python 3",
   "language": "python",
   "name": "python3"
  },
  "language_info": {
   "codemirror_mode": {
    "name": "ipython",
    "version": 3
   },
   "file_extension": ".py",
   "mimetype": "text/x-python",
   "name": "python",
   "nbconvert_exporter": "python",
   "pygments_lexer": "ipython3",
   "version": "3.9.1rc1"
  },
  "orig_nbformat": 4
 },
 "nbformat": 4,
 "nbformat_minor": 2
}
