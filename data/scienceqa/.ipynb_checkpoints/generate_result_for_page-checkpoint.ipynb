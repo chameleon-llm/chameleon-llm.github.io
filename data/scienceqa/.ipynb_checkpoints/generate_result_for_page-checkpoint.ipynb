{
 "cells": [
  {
   "cell_type": "code",
   "execution_count": 25,
   "metadata": {},
   "outputs": [],
   "source": [
    "import os\n",
    "import json\n",
    "\n",
    "import "
   ]
  },
  {
   "cell_type": "code",
   "execution_count": 26,
   "metadata": {},
   "outputs": [],
   "source": [
    "input_file = \"raw_results/chameleon_gpt4_test_cache.jsonl\"\n",
    "output_file = \"chameleon_gpt4.json\"\n",
    "\n",
    "\n",
    "results = {}\n",
    "\n",
    "for line in open(input_file):\n",
    "    data = json.loads(line)\n",
    "    result = {}\n",
    "\n",
    "    # get data\n",
    "    pid = data[\"pid\"]\n",
    "\n",
    "    # get module results\n",
    "    modules = data[\"modules:output\"]\n",
    "    if \"text_detector:output\" in data:\n",
    "        texts = data[\"text_detector:output\"]\n",
    "        texts = [(text[0][0], text[1]) for text in texts]\n",
    "        texts = \"\\n\".join([f\"{text[0]}: {text[1]}\" for text in texts])\n",
    "        data[\"text_detector:output\"] = texts\n",
    "\n",
    "    module_result = {\"modules\": modules}\n",
    "    for module in modules:\n",
    "        module_result[module] = {\"input\": data[f\"{module}:input\"], \"output\": data[f\"{module}:output\"]}\n",
    "    \n",
    "    image_file = f\"{pid}.png\" if data[\"example\"][\"image\"] else None\n",
    "    # get example results\n",
    "    result = {\n",
    "                \"pid\": pid, \n",
    "                \"question\": data[\"example\"][\"question\"],\n",
    "                \"context\": data[\"example\"][\"hint\"],\n",
    "                \"image\": image_file,\n",
    "                \"choices\": data[\"example\"][\"choices\"],\n",
    "                \"answer\": data[\"example\"][\"choices\"][data[\"example\"][\"answer\"]],\n",
    "                \"prediction\": data[\"prediction\"],\n",
    "                \"true_false\": data[\"true_false\"],\n",
    "            }\n",
    "    \n",
    "    # save data\n",
    "    result = {**result, **module_result}\n",
    "    results[pid] = result\n",
    "\n",
    "# save  results\n",
    "with open(output_file, \"w\") as f:\n",
    "    json.dump(results, f, indent=2)"
   ]
  },
  {
   "cell_type": "code",
   "execution_count": null,
   "metadata": {},
   "outputs": [],
   "source": []
  }
 ],
 "metadata": {
  "kernelspec": {
   "display_name": "Python 3 (ipykernel)",
   "language": "python",
   "name": "python3"
  },
  "language_info": {
   "codemirror_mode": {
    "name": "ipython",
    "version": 3
   },
   "file_extension": ".py",
   "mimetype": "text/x-python",
   "name": "python",
   "nbconvert_exporter": "python",
   "pygments_lexer": "ipython3",
   "version": "3.9.1rc1"
  }
 },
 "nbformat": 4,
 "nbformat_minor": 2
}
